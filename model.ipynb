{
  "cells": [
    {
      "cell_type": "code",
      "execution_count": 22,
      "metadata": {
        "colab": {
          "base_uri": "https://localhost:8080/"
        },
        "id": "F48vjuZ-PMKV",
        "outputId": "97e8dac6-bd8f-410c-9104-963ecab3e7a9"
      },
      "outputs": [
        {
          "name": "stdout",
          "output_type": "stream",
          "text": [
            "Requirement already satisfied: pyspark in /usr/local/lib/python3.10/dist-packages (3.5.3)\n",
            "Requirement already satisfied: nltk in /usr/local/lib/python3.10/dist-packages (3.9.1)\n",
            "Requirement already satisfied: datasets in /usr/local/lib/python3.10/dist-packages (3.2.0)\n",
            "Requirement already satisfied: py4j==0.10.9.7 in /usr/local/lib/python3.10/dist-packages (from pyspark) (0.10.9.7)\n",
            "Requirement already satisfied: click in /usr/local/lib/python3.10/dist-packages (from nltk) (8.1.7)\n",
            "Requirement already satisfied: joblib in /usr/local/lib/python3.10/dist-packages (from nltk) (1.4.2)\n",
            "Requirement already satisfied: regex>=2021.8.3 in /usr/local/lib/python3.10/dist-packages (from nltk) (2024.9.11)\n",
            "Requirement already satisfied: tqdm in /usr/local/lib/python3.10/dist-packages (from nltk) (4.66.6)\n",
            "Requirement already satisfied: filelock in /usr/local/lib/python3.10/dist-packages (from datasets) (3.16.1)\n",
            "Requirement already satisfied: numpy>=1.17 in /usr/local/lib/python3.10/dist-packages (from datasets) (1.26.4)\n",
            "Requirement already satisfied: pyarrow>=15.0.0 in /usr/local/lib/python3.10/dist-packages (from datasets) (17.0.0)\n",
            "Requirement already satisfied: dill<0.3.9,>=0.3.0 in /usr/local/lib/python3.10/dist-packages (from datasets) (0.3.8)\n",
            "Requirement already satisfied: pandas in /usr/local/lib/python3.10/dist-packages (from datasets) (2.2.2)\n",
            "Requirement already satisfied: requests>=2.32.2 in /usr/local/lib/python3.10/dist-packages (from datasets) (2.32.3)\n",
            "Requirement already satisfied: xxhash in /usr/local/lib/python3.10/dist-packages (from datasets) (3.5.0)\n",
            "Requirement already satisfied: multiprocess<0.70.17 in /usr/local/lib/python3.10/dist-packages (from datasets) (0.70.16)\n",
            "Requirement already satisfied: fsspec<=2024.9.0,>=2023.1.0 in /usr/local/lib/python3.10/dist-packages (from fsspec[http]<=2024.9.0,>=2023.1.0->datasets) (2024.9.0)\n",
            "Requirement already satisfied: aiohttp in /usr/local/lib/python3.10/dist-packages (from datasets) (3.11.10)\n",
            "Requirement already satisfied: huggingface-hub>=0.23.0 in /usr/local/lib/python3.10/dist-packages (from datasets) (0.26.5)\n",
            "Requirement already satisfied: packaging in /usr/local/lib/python3.10/dist-packages (from datasets) (24.2)\n",
            "Requirement already satisfied: pyyaml>=5.1 in /usr/local/lib/python3.10/dist-packages (from datasets) (6.0.2)\n",
            "Requirement already satisfied: aiohappyeyeballs>=2.3.0 in /usr/local/lib/python3.10/dist-packages (from aiohttp->datasets) (2.4.4)\n",
            "Requirement already satisfied: aiosignal>=1.1.2 in /usr/local/lib/python3.10/dist-packages (from aiohttp->datasets) (1.3.1)\n",
            "Requirement already satisfied: async-timeout<6.0,>=4.0 in /usr/local/lib/python3.10/dist-packages (from aiohttp->datasets) (4.0.3)\n",
            "Requirement already satisfied: attrs>=17.3.0 in /usr/local/lib/python3.10/dist-packages (from aiohttp->datasets) (24.2.0)\n",
            "Requirement already satisfied: frozenlist>=1.1.1 in /usr/local/lib/python3.10/dist-packages (from aiohttp->datasets) (1.5.0)\n",
            "Requirement already satisfied: multidict<7.0,>=4.5 in /usr/local/lib/python3.10/dist-packages (from aiohttp->datasets) (6.1.0)\n",
            "Requirement already satisfied: propcache>=0.2.0 in /usr/local/lib/python3.10/dist-packages (from aiohttp->datasets) (0.2.1)\n",
            "Requirement already satisfied: yarl<2.0,>=1.17.0 in /usr/local/lib/python3.10/dist-packages (from aiohttp->datasets) (1.18.3)\n",
            "Requirement already satisfied: typing-extensions>=3.7.4.3 in /usr/local/lib/python3.10/dist-packages (from huggingface-hub>=0.23.0->datasets) (4.12.2)\n",
            "Requirement already satisfied: charset-normalizer<4,>=2 in /usr/local/lib/python3.10/dist-packages (from requests>=2.32.2->datasets) (3.4.0)\n",
            "Requirement already satisfied: idna<4,>=2.5 in /usr/local/lib/python3.10/dist-packages (from requests>=2.32.2->datasets) (3.10)\n",
            "Requirement already satisfied: urllib3<3,>=1.21.1 in /usr/local/lib/python3.10/dist-packages (from requests>=2.32.2->datasets) (2.2.3)\n",
            "Requirement already satisfied: certifi>=2017.4.17 in /usr/local/lib/python3.10/dist-packages (from requests>=2.32.2->datasets) (2024.8.30)\n",
            "Requirement already satisfied: python-dateutil>=2.8.2 in /usr/local/lib/python3.10/dist-packages (from pandas->datasets) (2.8.2)\n",
            "Requirement already satisfied: pytz>=2020.1 in /usr/local/lib/python3.10/dist-packages (from pandas->datasets) (2024.2)\n",
            "Requirement already satisfied: tzdata>=2022.7 in /usr/local/lib/python3.10/dist-packages (from pandas->datasets) (2024.2)\n",
            "Requirement already satisfied: six>=1.5 in /usr/local/lib/python3.10/dist-packages (from python-dateutil>=2.8.2->pandas->datasets) (1.17.0)\n"
          ]
        }
      ],
      "source": [
        "# Install required packages\n",
        "!pip install pyspark nltk datasets"
      ]
    },
    {
      "cell_type": "code",
      "execution_count": 1,
      "metadata": {
        "colab": {
          "base_uri": "https://localhost:8080/"
        },
        "id": "x6AX8Vu7PNF7",
        "outputId": "f9cd547d-21a8-4329-abd6-0141305264b1"
      },
      "outputs": [
        {
          "name": "stderr",
          "output_type": "stream",
          "text": [
            "[nltk_data] Downloading package punkt to /root/nltk_data...\n",
            "[nltk_data]   Package punkt is already up-to-date!\n",
            "[nltk_data] Downloading package wordnet to /root/nltk_data...\n",
            "[nltk_data]   Package wordnet is already up-to-date!\n",
            "[nltk_data] Downloading package stopwords to /root/nltk_data...\n",
            "[nltk_data]   Package stopwords is already up-to-date!\n"
          ]
        },
        {
          "data": {
            "text/plain": [
              "True"
            ]
          },
          "execution_count": 1,
          "metadata": {},
          "output_type": "execute_result"
        }
      ],
      "source": [
        "# Download NLTK data\n",
        "import nltk\n",
        "nltk.download('punkt')\n",
        "nltk.download('wordnet')\n",
        "nltk.download('stopwords')"
      ]
    },
    {
      "cell_type": "code",
      "execution_count": 2,
      "metadata": {
        "id": "FlChvoydPO3u"
      },
      "outputs": [],
      "source": [
        "# Initialize Spark Session\n",
        "from pyspark.sql import SparkSession\n",
        "\n",
        "spark = SparkSession.builder \\\n",
        "    .appName(\"ScamDetection\") \\\n",
        "    .getOrCreate()"
      ]
    },
    {
      "cell_type": "code",
      "execution_count": 3,
      "metadata": {
        "id": "PX7C_Di6PQVm"
      },
      "outputs": [],
      "source": [
        "# Import required libraries\n",
        "from pyspark.ml.feature import Tokenizer, StopWordsRemover, CountVectorizer, IDF\n",
        "from pyspark.ml.classification import RandomForestClassifier\n",
        "from pyspark.ml import Pipeline\n",
        "from pyspark.ml.evaluation import MulticlassClassificationEvaluator\n",
        "from pyspark.sql.functions import lower, regexp_replace, udf\n",
        "from pyspark.sql.types import ArrayType, StringType\n",
        "from nltk.stem import WordNetLemmatizer\n",
        "from datasets import load_dataset\n",
        "from nltk.stem import PorterStemmer"
      ]
    },
    {
      "cell_type": "code",
      "execution_count": 4,
      "metadata": {
        "id": "7mYKgiTWPSJM"
      },
      "outputs": [],
      "source": [
        "# Create lemmatizer UDF\n",
        "lemmatizer = WordNetLemmatizer()\n",
        "stemmer = PorterStemmer()\n",
        "\n",
        "@udf(returnType=ArrayType(StringType()))\n",
        "def lemmatize_text(tokens):\n",
        "    lemmatized_tokens = [lemmatizer.lemmatize(token) for token in tokens if token.strip()]\n",
        "    return ' '.join(lemmatized_tokens)"
      ]
    },
    {
      "cell_type": "code",
      "execution_count": 5,
      "metadata": {
        "colab": {
          "base_uri": "https://localhost:8080/"
        },
        "id": "kFRGbdbkPaCL",
        "outputId": "26326faa-49d0-4705-8219-e1e633273a0d"
      },
      "outputs": [
        {
          "name": "stderr",
          "output_type": "stream",
          "text": [
            "/usr/local/lib/python3.10/dist-packages/huggingface_hub/utils/_auth.py:94: UserWarning: \n",
            "The secret `HF_TOKEN` does not exist in your Colab secrets.\n",
            "To authenticate with the Hugging Face Hub, create a token in your settings tab (https://huggingface.co/settings/tokens), set it as secret in your Google Colab and restart your session.\n",
            "You will be able to reuse this secret in all of your notebooks.\n",
            "Please note that authentication is recommended but still optional to access public models or datasets.\n",
            "  warnings.warn(\n"
          ]
        },
        {
          "name": "stdout",
          "output_type": "stream",
          "text": [
            "+---------------------------------------------------------------------------------------------------------------------------------------------------------------------------------------------------------------------------------------------------------------------------------------------------------------------------------------------------------------------------------------------------------------------------------------------------------------------------------------------------------------------------------------------------------------------------------------------------------------------------------------------------------------------------------------------------------------------------------------------------------------------------------------------------------------------------------------------------------------------------------------------------------------------------------------------------------------------------------------------------------------------------------------------------------------------------------------------------------------------------------------------------------------------------------------------------------------------------------------------------------------------------------------------------------------------------------------------------------------------------------------------------------------------------------------------------------------------------------------------------------------------------------------------------------------------------------------------------------------------------------------------------------------------------------------------------------------------------------------------------------------------------------------------------------------------------------------------------------------------------------------------------------------------------------------------------------------------------------------------------------------------------------------------------------------------------------------------------------------------------------------------------------------------------------------------------------------------------------------------------------------------------------------------------------------------------------------------------------------------------------------------------------------------------------------------+----+-----+\n",
            "|dialogue                                                                                                                                                                                                                                                                                                                                                                                                                                                                                                                                                                                                                                                                                                                                                                                                                                                                                                                                                                                                                                                                                                                                                                                                                                                                                                                                                                                                                                                                                                                                                                                                                                                                                                                                                                                                                                                                                                                                                                                                                                                                                                                                                                                                                                                                                                                                                                                                                                     |type|label|\n",
            "+---------------------------------------------------------------------------------------------------------------------------------------------------------------------------------------------------------------------------------------------------------------------------------------------------------------------------------------------------------------------------------------------------------------------------------------------------------------------------------------------------------------------------------------------------------------------------------------------------------------------------------------------------------------------------------------------------------------------------------------------------------------------------------------------------------------------------------------------------------------------------------------------------------------------------------------------------------------------------------------------------------------------------------------------------------------------------------------------------------------------------------------------------------------------------------------------------------------------------------------------------------------------------------------------------------------------------------------------------------------------------------------------------------------------------------------------------------------------------------------------------------------------------------------------------------------------------------------------------------------------------------------------------------------------------------------------------------------------------------------------------------------------------------------------------------------------------------------------------------------------------------------------------------------------------------------------------------------------------------------------------------------------------------------------------------------------------------------------------------------------------------------------------------------------------------------------------------------------------------------------------------------------------------------------------------------------------------------------------------------------------------------------------------------------------------------------+----+-----+\n",
            "|caller: Hello, is this John? receiver: Yes, it is. Who's calling? caller: My name is Officer Johnson from the Social Security Administration. How are you today? receiver: I'm fine, thank you. What can I do for you? caller: We've been trying to reach you about a very important matter. Your social security number has been compromised and we need to take immediate action to protect your identity. receiver: Oh no, what happened? caller: We've received reports of suspicious activity on your account and we need to verify some information to ensure your benefits aren't interrupted. receiver: Okay, what do you need to know? caller: Can you please confirm your social security number for me? receiver: Wait, I'm not comfortable giving that out over the phone. Is this really the Social Security Administration? caller: Ma'am, I assure you this is a legitimate call. We're trying to help you. If you don't cooperate, we'll have to suspend your benefits. receiver: I don't think so. I'm going to hang up and call the SSA myself to verify this. caller: Ma'am, don't hang up! You need to take care of this now or you'll be sorry!                                                                                                                                                                                                                                                                                                                                                                                                                                                                                                                                                                                                                                                                                                                                                                                                                                                                                                                                                                                                                                                                                                                                                                                                                                                                         |ssn |1    |\n",
            "|caller: Hello, is this John? receiver: Yeah, that's me. Who's calling? caller: My name is Officer Johnson from the Social Security Administration. We've had some suspicious activity on your account. receiver: Oh? What kind of activity? caller: We've had reports of someone trying to steal your social security number. I need to verify some information to ensure your account is secure. receiver: That sounds serious. Can you tell me more about these reports? caller: Yes, of course. But first, I need to confirm your social security number to access your file. receiver: I'm not comfortable giving out my social security number over the phone. Can you give me a call-back number to verify who you are? caller: I understand your concern, but this is an urgent matter. If you don't cooperate, we'll have to freeze your account and you won't be able to receive any benefits. receiver: That sounds like a threat. Are you saying my benefits will be affected if I don't give you my social security number? caller: Let's just say it's in your best interest to cooperate. Now, can you please give me the last four digits of your social security number so I can look into this further? receiver: I'm still not convinced. Can you explain why you need the last four digits specifically? What does that prove? caller: It's just a standard procedure, sir. We need to match it with our records. receiver: I see. Well, I'm going to go ahead and report this incident to the real Social Security Administration and see what they have to say about it. caller: Wait, don't do that! You'll only delay the process and make things worse for yourself. receiver: Make things worse for myself? How would reporting this incident make things worse for me? caller: Look, just trust me on this one, okay? Just give me the information and we'll take care of everything. receiver: I think we're done here. Thanks for the entertainment.                                                                                                                                                                                                                                                                                                                                                                                                                                                             |ssn |1    |\n",
            "|caller: Hello, is this Mr. Johnson? receiver: Yeah, that's me. Who's this? caller: My name is Officer James from the Social Security Administration. We've had some suspicious activity on your account. receiver: Oh? What kind of activity? caller: Someone has been using your social security number to open up fraudulent accounts. We need to verify some information to secure your account. receiver: I see. Can you tell me more about these accounts? What kind of accounts were they? caller: Ah, well, let's just say they're very serious and we need to act quickly. If we don't, you could be facing legal action. receiver: Legal action? That sounds serious. Can you give me the case number so I can look into it further? caller: The case number is... uh... 54321. But like I said, we need to move quickly. receiver: Okay, got it. 54321. So what do I need to do to secure my account? caller: We need you to confirm your social security number and then we'll walk you through the process of securing your account. receiver: Confirm my social security number? Isn't that something you should already have if you're from the Social Security Administration? caller: Ah, good point, sir. Let me check on that real quick.  Yeah, it looks like our system is down right now and we can't access that information. receiver: That's convenient. Can I call you back at a later time when your system is up? caller: No, no, no, sir. This is an urgent matter. We really need to take care of this right now. receiver: Okay, okay. So what's the next step then? caller: Like I said, we need you to confirm your social security number and then we'll guide you through the rest of the process. receiver: And what's the rest of the process? Are there any fees involved? caller: There may be a small fee for the services we provide, but we'll discuss that later. First, let's just focus on getting your account secured. receiver: Okay, let me think about it for a second. Can you hold for just a minute?                                                                                                                                                                                                                                                                                                                                                                                     |ssn |1    |\n",
            "|caller: Hello, is this John? receiver: Yeah, that's me. Who's calling? caller: My name is Officer Johnson from the Social Security Administration. receiver: What can I do for you, Officer Johnson? caller: We've been trying to reach you about a problem with your social security number. receiver: What kind of problem? caller: It's been suspended due to suspicious activity. receiver: Suspended? That sounds serious. Can you tell me more about it? caller: Yes, sir. It appears someone has been using your number to commit fraud. receiver: That's disturbing. How did you find out about it? caller: We have our ways of monitoring these things. But don't worry, we can fix it for you. receiver: Okay, what do I need to do? caller: I'll need you to confirm some information first. Can you please tell me your social security number? receiver: Wait, isn't that what's been compromised? Why would I give it to you over the phone? caller: It's perfectly safe, sir. I assure you, this is a secure line. receiver: I'm not sure I'm comfortable with that. Can you give me your badge number or something so I can verify who you are? caller: My badge number is 9421. Now, about that social security number... receiver: Okay, hold on a minute. Let me get a pen and paper to write that down. Can you repeat the number slowly? caller: 9421. Now, come on, sir, we don't have all day. receiver: Okay, got it. So what's the next step? caller: Like I said, we need to confirm your information. Can you please tell me your bank account number as well? receiver: Bank account number? Why would you need that? caller: We need to make sure no fraudulent activity has occurred in your accounts. receiver: I'm not giving out my bank account number to someone I don't know over the phone. caller: Fine, be that way. But if you don't cooperate, we'll have to send someone to your doorstep to discuss this further. receiver: Oh, really? What's the address you have on file for me?                                                                                                                                                                                                                                                                                                                                                                                                               |ssn |1    |\n",
            "|caller: Hello, this is Officer Johnson from the Social Security Administration. We've been trying to reach you about a serious issue with your social security number. receiver: Oh, really? What's going on? caller: It appears that your social security number has been compromised and we need to take immediate action to protect your identity. receiver: That sounds serious. Can you tell me more about what happened? caller: Yes, of course. Our system shows that your social security number was used in a fraudulent activity and we need to verify some information to clear up the issue. receiver: I see. So what information do you need from me? caller: We just need to confirm your social security number and your date of birth to move forward with the investigation. receiver: Okay, but how do I know this is really the Social Security Administration calling? Can you give me a call-back number or something? caller: Ah, yes, absolutely. The call-back number is 202-555-1234. You can verify it on our website. receiver: Okay, got it. But before I give you any information, can you tell me more about this fraudulent activity? What kind of fraud was committed? caller: Well, let's just say it was a very serious offense and we need to act quickly to prevent further damage. Now, can I get that social security number from you please? receiver: Hold on, I'm not sure I'm comfortable giving out that information over the phone. Can I speak to your supervisor instead? caller: Of course, let me go ahead and transfer you to my supervisor. Please hold for just a moment. receiver: Okay, thank you. caller:  Hello, this is Supervisor Thompson. I understand you have some concerns about verifying your information? receiver: Yes, that's right. I'm just not sure I trust this whole process. Can you explain why I need to give out my social security number? caller: Well, as I said earlier, it's necessary to clear up this fraudulent activity. And if you don't cooperate, we'll have to send an agent to your location to discuss further. receiver: An agent? That sounds serious. How long will it take for them to arrive? caller: Oh, it depends on the location and availability of our agents. But trust me, it's better if we resolve this over the phone. receiver: Okay, okay. I think I'll go ahead and give you the information then. But can you at least tell me|ssn |1    |\n",
            "+---------------------------------------------------------------------------------------------------------------------------------------------------------------------------------------------------------------------------------------------------------------------------------------------------------------------------------------------------------------------------------------------------------------------------------------------------------------------------------------------------------------------------------------------------------------------------------------------------------------------------------------------------------------------------------------------------------------------------------------------------------------------------------------------------------------------------------------------------------------------------------------------------------------------------------------------------------------------------------------------------------------------------------------------------------------------------------------------------------------------------------------------------------------------------------------------------------------------------------------------------------------------------------------------------------------------------------------------------------------------------------------------------------------------------------------------------------------------------------------------------------------------------------------------------------------------------------------------------------------------------------------------------------------------------------------------------------------------------------------------------------------------------------------------------------------------------------------------------------------------------------------------------------------------------------------------------------------------------------------------------------------------------------------------------------------------------------------------------------------------------------------------------------------------------------------------------------------------------------------------------------------------------------------------------------------------------------------------------------------------------------------------------------------------------------------------+----+-----+\n",
            "only showing top 5 rows\n",
            "\n"
          ]
        }
      ],
      "source": [
        "splits = {'train': 'scam-dialogue_train.csv', 'test': 'scam-dialogue_test.csv'}\n",
        "\n",
        "# Load the dataset using Hugging Face's datasets library\n",
        "dataset = load_dataset(\"BothBosu/scam-dialogue\", split=\"train\")\n",
        "\n",
        "# Convert the Hugging Face dataset to a Spark DataFrame\n",
        "train_df = spark.createDataFrame(dataset.to_pandas())\n",
        "\n",
        "# Display first few rows\n",
        "train_df.show(5, truncate=False)"
      ]
    },
    {
      "cell_type": "code",
      "execution_count": 6,
      "metadata": {
        "id": "aV5T8unAPaUz"
      },
      "outputs": [],
      "source": [
        "# Preprocess training data\n",
        "# Text preprocessing\n",
        "train_df = train_df.withColumn(\"dialogue\", lower(train_df.dialogue))\n",
        "train_df = train_df.withColumn(\"dialogue\", regexp_replace(train_df.dialogue, \"[^a-zA-Z\\\\s]\", \"\"))\n"
      ]
    },
    {
      "cell_type": "code",
      "execution_count": 7,
      "metadata": {
        "id": "2Fx8aqxeQYMK"
      },
      "outputs": [],
      "source": [
        "# Create and apply tokenization pipeline\n",
        "tokenizer = Tokenizer(inputCol=\"dialogue\", outputCol=\"words\")\n",
        "remover = StopWordsRemover(inputCol=\"words\", outputCol=\"filtered_words\")\n",
        "preprocessing_pipeline = Pipeline(stages=[tokenizer, remover])\n",
        "train_df = preprocessing_pipeline.fit(train_df).transform(train_df)"
      ]
    },
    {
      "cell_type": "code",
      "execution_count": 8,
      "metadata": {
        "id": "YJKv_QoDQaf-"
      },
      "outputs": [],
      "source": [
        "# Apply lemmatization\n",
        "train_df = train_df.withColumn(\"lemmatized\", lemmatize_text(\"filtered_words\"))"
      ]
    },
    {
      "cell_type": "code",
      "execution_count": 9,
      "metadata": {
        "colab": {
          "base_uri": "https://localhost:8080/"
        },
        "id": "s7wHv3WSQce5",
        "outputId": "6058b296-a8c1-4774-9777-4534a879ad3e"
      },
      "outputs": [
        {
          "name": "stdout",
          "output_type": "stream",
          "text": [
            "+---------------------------------------------------------------------------------------------------------------------------------------------------------------------------------------------------------------------------------------------------------------------------------------------------------------------------------------------------------------------------------------------------------------------------------------------------------------------------------------------------------------------------------------------------------------------------------------------------------------------------------------------------------------------------------------------------------------------------------------------------------------------------------------------------------------------------------------------------------------------------------------------------------------------------------------------------------------------------------------------------------------------------------------------------------------------------------------------------------------------------------------------------------------------------------------------------------------------------------------------------------------------------------------------------------------------------------------------------------------------------------------------------------------------------------------------------------------------------------------------------------------------------------------------------------+\n",
            "|lemmatized                                                                                                                                                                                                                                                                                                                                                                                                                                                                                                                                                                                                                                                                                                                                                                                                                                                                                                                                                                                                                                                                                                                                                                                                                                                                                                                                                                                                                                                                                                                                               |\n",
            "+---------------------------------------------------------------------------------------------------------------------------------------------------------------------------------------------------------------------------------------------------------------------------------------------------------------------------------------------------------------------------------------------------------------------------------------------------------------------------------------------------------------------------------------------------------------------------------------------------------------------------------------------------------------------------------------------------------------------------------------------------------------------------------------------------------------------------------------------------------------------------------------------------------------------------------------------------------------------------------------------------------------------------------------------------------------------------------------------------------------------------------------------------------------------------------------------------------------------------------------------------------------------------------------------------------------------------------------------------------------------------------------------------------------------------------------------------------------------------------------------------------------------------------------------------------+\n",
            "|[caller, hello, john, receiv, ye, who, call, caller, name, offic, johnson, social, secur, administr, today, receiv, im, fine, thank, caller, weve, tri, reach, import, matter, social, secur, number, compromis, need, take, immedi, action, protect, ident, receiv, oh, happen, caller, weve, receiv, report, suspici, activ, account, need, verifi, inform, ensur, benefit, arent, interrupt, receiv, okay, need, know, caller, pleas, confirm, social, secur, number, receiv, wait, im, comfort, give, phone, realli, social, secur, administr, caller, maam, assur, legitim, call, tri, help, dont, cooper, well, suspend, benefit, receiv, dont, think, im, go, hang, call, ssa, verifi, caller, maam, dont, hang, need, take, care, youll, sorri]                                                                                                                                                                                                                                                                                                                                                                                                                                                                                                                                                                                                                                                                                                                                                                                                  |\n",
            "|[caller, hello, john, receiv, yeah, that, who, call, caller, name, offic, johnson, social, secur, administr, weve, suspici, activ, account, receiv, oh, kind, activ, caller, weve, report, someon, tri, steal, social, secur, number, need, verifi, inform, ensur, account, secur, receiv, sound, seriou, tell, report, caller, ye, cours, first, need, confirm, social, secur, number, access, file, receiv, im, comfort, give, social, secur, number, phone, give, callback, number, verifi, caller, understand, concern, urgent, matter, dont, cooper, well, freez, account, wont, abl, receiv, benefit, receiv, sound, like, threat, say, benefit, affect, dont, give, social, secur, number, caller, let, say, best, interest, cooper, pleas, give, last, four, digit, social, secur, number, look, receiv, im, still, convinc, explain, need, last, four, digit, specif, prove, caller, standard, procedur, sir, need, match, record, receiv, see, well, im, go, go, ahead, report, incid, real, social, secur, administr, see, say, caller, wait, dont, youll, delay, process, make, thing, wors, receiv, make, thing, wors, report, incid, make, thing, wors, caller, look, trust, one, okay, give, inform, well, take, care, everyth, receiv, think, done, thank, entertain]                                                                                                                                                                                                                                                                    |\n",
            "|[caller, hello, mr, johnson, receiv, yeah, that, who, caller, name, offic, jame, social, secur, administr, weve, suspici, activ, account, receiv, oh, kind, activ, caller, someon, use, social, secur, number, open, fraudul, account, need, verifi, inform, secur, account, receiv, see, tell, account, kind, account, caller, ah, well, let, say, theyr, seriou, need, act, quickli, dont, face, legal, action, receiv, legal, action, sound, seriou, give, case, number, look, caller, case, number, uh, , like, said, need, move, quickli, receiv, okay, got, , need, secur, account, caller, need, confirm, social, secur, number, well, walk, process, secur, account, receiv, confirm, social, secur, number, isnt, someth, alreadi, your, social, secur, administr, caller, ah, good, point, sir, let, check, real, quick, , yeah, look, like, system, right, cant, access, inform, receiv, that, conveni, call, back, later, time, system, caller, sir, urgent, matter, realli, need, take, care, right, receiv, okay, okay, what, next, step, caller, like, said, need, confirm, social, secur, number, well, guid, rest, process, receiv, what, rest, process, fee, involv, caller, may, small, fee, servic, provid, well, discuss, later, first, let, focu, get, account, secur, receiv, okay, let, think, second, hold, minut]                                                                                                                                                                                                              |\n",
            "|[caller, hello, john, receiv, yeah, that, who, call, caller, name, offic, johnson, social, secur, administr, receiv, offic, johnson, caller, weve, tri, reach, problem, social, secur, number, receiv, kind, problem, caller, suspend, due, suspici, activ, receiv, suspend, sound, seriou, tell, caller, ye, sir, appear, someon, use, number, commit, fraud, receiv, that, disturb, find, caller, way, monitor, thing, dont, worri, fix, receiv, okay, need, caller, ill, need, confirm, inform, first, pleas, tell, social, secur, number, receiv, wait, isnt, what, compromis, give, phone, caller, perfectli, safe, sir, assur, secur, line, receiv, im, sure, im, comfort, give, badg, number, someth, verifi, caller, badg, number, , social, secur, number, receiv, okay, hold, minut, let, get, pen, paper, write, repeat, number, slowli, caller, , come, sir, dont, day, receiv, okay, got, what, next, step, caller, like, said, need, confirm, inform, pleas, tell, bank, account, number, well, receiv, bank, account, number, need, caller, need, make, sure, fraudul, activ, occur, account, receiv, im, give, bank, account, number, someon, dont, know, phone, caller, fine, way, dont, cooper, well, send, someon, doorstep, discuss, receiv, oh, realli, what, address, file]                                                                                                                                                                                                                                                        |\n",
            "|[caller, hello, offic, johnson, social, secur, administr, weve, tri, reach, seriou, issu, social, secur, number, receiv, oh, realli, what, go, caller, appear, social, secur, number, compromis, need, take, immedi, action, protect, ident, receiv, sound, seriou, tell, happen, caller, ye, cours, system, show, social, secur, number, use, fraudul, activ, need, verifi, inform, clear, issu, receiv, see, inform, need, caller, need, confirm, social, secur, number, date, birth, move, forward, investig, receiv, okay, know, realli, social, secur, administr, call, give, callback, number, someth, caller, ah, ye, absolut, callback, number, , verifi, websit, receiv, okay, got, give, inform, tell, fraudul, activ, kind, fraud, commit, caller, well, let, say, seriou, offens, need, act, quickli, prevent, damag, get, social, secur, number, pleas, receiv, hold, im, sure, im, comfort, give, inform, phone, speak, supervisor, instead, caller, cours, let, go, ahead, transfer, supervisor, pleas, hold, moment, receiv, okay, thank, caller, , hello, supervisor, thompson, understand, concern, verifi, inform, receiv, ye, that, right, im, sure, trust, whole, process, explain, need, give, social, secur, number, caller, well, said, earlier, necessari, clear, fraudul, activ, dont, cooper, well, send, agent, locat, discuss, receiv, agent, sound, seriou, long, take, arriv, caller, oh, depend, locat, avail, agent, trust, better, resolv, phone, receiv, okay, okay, think, ill, go, ahead, give, inform, least, tell]|\n",
            "+---------------------------------------------------------------------------------------------------------------------------------------------------------------------------------------------------------------------------------------------------------------------------------------------------------------------------------------------------------------------------------------------------------------------------------------------------------------------------------------------------------------------------------------------------------------------------------------------------------------------------------------------------------------------------------------------------------------------------------------------------------------------------------------------------------------------------------------------------------------------------------------------------------------------------------------------------------------------------------------------------------------------------------------------------------------------------------------------------------------------------------------------------------------------------------------------------------------------------------------------------------------------------------------------------------------------------------------------------------------------------------------------------------------------------------------------------------------------------------------------------------------------------------------------------------+\n",
            "only showing top 5 rows\n",
            "\n"
          ]
        }
      ],
      "source": [
        "# Display preprocessed data\n",
        "train_df.select(\"lemmatized\").show(5, truncate=False)\n"
      ]
    },
    {
      "cell_type": "code",
      "execution_count": 10,
      "metadata": {
        "id": "g1lCD5Y6QebS"
      },
      "outputs": [],
      "source": [
        "# Create TF-IDF features\n",
        "countVectorizer = CountVectorizer(inputCol=\"lemmatized\", outputCol=\"raw_features\")\n",
        "idf = IDF(inputCol=\"raw_features\", outputCol=\"features\")\n",
        "feature_pipeline = Pipeline(stages=[countVectorizer, idf])"
      ]
    },
    {
      "cell_type": "code",
      "execution_count": 11,
      "metadata": {
        "id": "j1AyUvluQhTs"
      },
      "outputs": [],
      "source": [
        "# Fit and transform the feature pipeline\n",
        "feature_model = feature_pipeline.fit(train_df)\n",
        "train_features = feature_model.transform(train_df)"
      ]
    },
    {
      "cell_type": "code",
      "execution_count": 12,
      "metadata": {
        "id": "jQlVjXsuQ0r0"
      },
      "outputs": [],
      "source": [
        "# Train Random Forest model\n",
        "rf = RandomForestClassifier(labelCol=\"label\",\n",
        "                          featuresCol=\"features\",\n",
        "                          numTrees=50,\n",
        "                          seed=42)\n",
        "\n",
        "model = rf.fit(train_features)"
      ]
    },
    {
      "cell_type": "code",
      "execution_count": 13,
      "metadata": {
        "id": "ZYWTRfHVQ_gC"
      },
      "outputs": [],
      "source": [
        "# Load and preprocess test data\n",
        "test_dataset = load_dataset(\"BothBosu/scam-dialogue\", split=\"test\")\n",
        "# Convert the Hugging Face dataset to a Spark DataFrame\n",
        "test_df = spark.createDataFrame(test_dataset.to_pandas())"
      ]
    },
    {
      "cell_type": "code",
      "execution_count": 14,
      "metadata": {
        "id": "hJV7yjY_RCYg"
      },
      "outputs": [],
      "source": [
        "# Apply same preprocessing steps\n",
        "test_df = test_df.withColumn(\"dialogue\", lower(test_df.dialogue))\n",
        "test_df = test_df.withColumn(\"dialogue\", regexp_replace(test_df.dialogue, \"[^a-zA-Z\\\\s]\", \"\"))\n",
        "test_df = preprocessing_pipeline.fit(test_df).transform(test_df)\n",
        "test_df = test_df.withColumn(\"lemmatized\", lemmatize_text(\"filtered_words\"))\n"
      ]
    },
    {
      "cell_type": "code",
      "execution_count": 15,
      "metadata": {
        "id": "aTBhVeUSREF2"
      },
      "outputs": [],
      "source": [
        "# Create features for test data\n",
        "test_features = feature_model.transform(test_df)"
      ]
    },
    {
      "cell_type": "code",
      "execution_count": 16,
      "metadata": {
        "id": "82a4ILyNRGYH"
      },
      "outputs": [],
      "source": [
        "# Make predictions\n",
        "predictions = model.transform(test_features)"
      ]
    },
    {
      "cell_type": "code",
      "execution_count": 17,
      "metadata": {
        "id": "n9Oet8mJRcn3"
      },
      "outputs": [],
      "source": [
        "# Evaluate model\n",
        "evaluator = MulticlassClassificationEvaluator(\n",
        "    labelCol=\"label\",\n",
        "    predictionCol=\"prediction\",\n",
        "    metricName=\"accuracy\"\n",
        ")"
      ]
    },
    {
      "cell_type": "code",
      "execution_count": 18,
      "metadata": {
        "id": "Mw-Tk9uwZGsh"
      },
      "outputs": [],
      "source": [
        "# Classification Metrics\n",
        "def compute_classification_metrics(predictions):\n",
        "    evaluator_precision = MulticlassClassificationEvaluator(labelCol=\"label\", predictionCol=\"prediction\", metricName=\"weightedPrecision\")\n",
        "    evaluator_recall = MulticlassClassificationEvaluator(labelCol=\"label\", predictionCol=\"prediction\", metricName=\"weightedRecall\")\n",
        "    evaluator_f1 = MulticlassClassificationEvaluator(labelCol=\"label\", predictionCol=\"prediction\", metricName=\"f1\")\n",
        "\n",
        "    precision = evaluator_precision.evaluate(predictions)\n",
        "    recall = evaluator_recall.evaluate(predictions)\n",
        "    f1 = evaluator_f1.evaluate(predictions)\n",
        "\n",
        "    confusion_matrix = predictions.groupBy(\"label\", \"prediction\").count().orderBy(\"label\", \"prediction\")\n",
        "\n",
        "    return precision, recall, f1, confusion_matrix"
      ]
    },
    {
      "cell_type": "code",
      "execution_count": 19,
      "metadata": {
        "colab": {
          "base_uri": "https://localhost:8080/"
        },
        "id": "BASHkP83ReQ1",
        "outputId": "33620599-3c2c-4f7b-873f-cf8bc90fba0e"
      },
      "outputs": [
        {
          "name": "stdout",
          "output_type": "stream",
          "text": [
            "Model Accuracy: 1.0\n",
            "\n",
            "Classification Report:\n",
            "Precision: 1.00\n",
            "Recall: 1.00\n",
            "F1 Score: 1.00\n",
            "\n",
            "Confusion Matrix:\n",
            "+-----+----------+-----+\n",
            "|label|prediction|count|\n",
            "+-----+----------+-----+\n",
            "|    0|       0.0|  160|\n",
            "|    1|       1.0|  160|\n",
            "+-----+----------+-----+\n",
            "\n"
          ]
        }
      ],
      "source": [
        "accuracy = evaluator.evaluate(predictions)\n",
        "print(f\"Model Accuracy: {accuracy}\")\n",
        "\n",
        "precision, recall, f1, confusion_matrix = compute_classification_metrics(predictions)\n",
        "print(\"\\nClassification Report:\")\n",
        "print(f\"Precision: {precision:.2f}\")\n",
        "print(f\"Recall: {recall:.2f}\")\n",
        "print(f\"F1 Score: {f1:.2f}\")\n",
        "print(\"\\nConfusion Matrix:\")\n",
        "confusion_matrix.show()"
      ]
    },
    {
      "cell_type": "code",
      "execution_count": null,
      "metadata": {},
      "outputs": [],
      "source": [
        "# Combine preprocessing, feature extraction, and model stages into a single pipeline\n",
        "final_pipeline = Pipeline(stages=[\n",
        "    tokenizer,       # Tokenization\n",
        "    remover,         # Stopword removal\n",
        "    countVectorizer, # Count Vectorizer\n",
        "    idf,             # TF-IDF\n",
        "    rf               # Random Forest Classifier\n",
        "])\n",
        "\n",
        "# Train the full pipeline model on the original train data\n",
        "final_model = final_pipeline.fit(train_df)\n"
      ]
    },
    {
      "cell_type": "code",
      "execution_count": 20,
      "metadata": {
        "id": "mXpbm9UJRgd6"
      },
      "outputs": [],
      "source": [
        "# Function to predict on new text\n",
        "def predict_scam_or_not(text):\n",
        "    # Create a single row DataFrame\n",
        "    data = [(text,)]\n",
        "    df = spark.createDataFrame(data, [\"dialogue\"])\n",
        "\n",
        "    # Preprocess the text\n",
        "    df = df.withColumn(\"dialogue\", lower(df.dialogue))\n",
        "    df = df.withColumn(\"dialogue\", regexp_replace(df.dialogue, \"[^a-zA-Z\\\\s]\", \"\"))\n",
        "\n",
        "    # Apply preprocessing pipeline\n",
        "    df = preprocessing_pipeline.fit(df).transform(df)\n",
        "    df = df.withColumn(\"lemmatized\", lemmatize_text(\"filtered_words\"))\n",
        "\n",
        "    # Create features\n",
        "    df = feature_model.transform(df)\n",
        "\n",
        "    # Make prediction\n",
        "    prediction = model.transform(df)\n",
        "    result = prediction.select(\"prediction\").collect()[0][0]\n",
        "\n",
        "    return \"Scam\" if result == 1 else \"Non-Scam\""
      ]
    },
    {
      "cell_type": "code",
      "execution_count": 38,
      "metadata": {
        "id": "zgHRGkedRj8g"
      },
      "outputs": [],
      "source": [
        "# Sample transcripts\n",
        "transcripts = [\n",
        "    # Scam transcript\n",
        "    \"\"\"\n",
        "    caller: Hello, this is Professor Armin from the University of Calgary. We've detected suspicious activity related to your course 550 project.\n",
        "    receiver: Suspicious activity? What do you mean?\n",
        "    caller: It appears that unauthorized access has been detected. We need your student ID and password to secure your account immediately.\n",
        "    receiver: That sounds alarming. Shouldn't the IT department handle this?\n",
        "    caller: I'm authorized to assist. Time is critical to prevent data loss. Please provide your credentials now.\n",
        "    \"\"\",\n",
        "    # Scam transcript\n",
        "    \"\"\"\n",
        "    caller: Hello, this is Dr. Thompson from the University of Calgary IT Security Division. We've detected suspicious activity.\n",
        "    receiver: Suspicious activity?\n",
        "    caller: Yes, we've detected multiple unauthorized login attempts. We need your student ID and password to secure your account immediately.\n",
        "    receiver: This is concerning. Should I contact my supervisor about this?\n",
        "    caller: There's no time for that. I need your university login credentials and student ID immediately to block these attacks and secure your research files.\n",
        "    \"\"\",\n",
        "    # Non-Scam transcript\n",
        "    \"\"\"\n",
        "    receiver: Hi Professor Armin, I wanted to discuss the upcoming demo for course 550.\n",
        "    professor: Of course! I'm excited to see what you and your team have developed.\n",
        "    receiver: Students have been working hard, and we're ready to present to you, the TAs.\n",
        "    professor: Excellent. Let's schedule the presentation in Calgary next week.\n",
        "    \"\"\",\n",
        "    # Non-Scam transcript\n",
        "    \"\"\"\n",
        "    receiver: Hello Professor Armin, we're ready to showcase our course 550 project.\n",
        "    professor: That's wonderful! I'm looking forward to your demo.\n",
        "    receiver: We'll be presenting to you, the TAs  in Calgary.\n",
        "    professor: Sounds great. Make sure to prepare thoroughly.\n",
        "    \"\"\"\n",
        "]"
      ]
    },
    {
      "cell_type": "code",
      "execution_count": 39,
      "metadata": {
        "colab": {
          "base_uri": "https://localhost:8080/"
        },
        "id": "XzfeRua9Rq4n",
        "outputId": "6ab02c0f-2e27-46c1-eb04-948883366ac3"
      },
      "outputs": [
        {
          "name": "stdout",
          "output_type": "stream",
          "text": [
            "Transcript 1 Prediction: Scam\n",
            "Transcript 2 Prediction: Scam\n",
            "Transcript 3 Prediction: Non-Scam\n",
            "Transcript 4 Prediction: Non-Scam\n",
            "Transcript 5 Prediction: Non-Scam\n"
          ]
        }
      ],
      "source": [
        "for idx, transcript in enumerate(transcripts):\n",
        "    result = predict_scam_or_not(transcript)\n",
        "    print(f\"Transcript {idx+1} Prediction: {result}\")"
      ]
    },
    {
      "cell_type": "code",
      "execution_count": null,
      "metadata": {
        "id": "efWT-wdhRwpW"
      },
      "outputs": [],
      "source": [
        "# Save the trained pipeline model\n",
        "final_model.write().overwrite().save(\"scam_detection_pipeline_model\")\n",
        "print(\"Pipeline model saved as 'scam_detection_pipeline_model'\")"
      ]
    }
  ],
  "metadata": {
    "colab": {
      "provenance": []
    },
    "kernelspec": {
      "display_name": "Python 3",
      "name": "python3"
    },
    "language_info": {
      "name": "python"
    }
  },
  "nbformat": 4,
  "nbformat_minor": 0
}
